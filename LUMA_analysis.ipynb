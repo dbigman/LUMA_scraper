{
 "cells": [
  {
   "cell_type": "code",
   "execution_count": null,
   "metadata": {},
   "outputs": [],
   "source": [
    "import json5\n",
    "import pandas as pd\n",
    "\n",
    "# Open the JSON5 file and parse its contents\n",
    "with open(\"d:/LUMA_scraper/LUMA_dataSource.json5\", \"r\", encoding=\"utf-8\") as f:\n",
    "    data = json5.load(f)  # data will be a Python dict or list, depending on JSON5 structure\n",
    "\n",
    "# Convert parsed data into a DataFrame\n",
    "df = pd.DataFrame(data)\n",
    "print(df.head())\n",
    "\n"
   ]
  },
  {
   "cell_type": "code",
   "execution_count": null,
   "metadata": {},
   "outputs": [],
   "source": [
    "# setting timestamp as index\n",
    "\n",
    "df['timestamp'] = pd.to_datetime(df['timestamp'])\n",
    "\n",
    "# set column as the index\n",
    "df.set_index('timestamp', inplace=True)\n",
    "\n",
    "# Inspect the DataFrame\n",
    "# df.head()"
   ]
  },
  {
   "cell_type": "code",
   "execution_count": 7,
   "metadata": {},
   "outputs": [],
   "source": [
    "# analyzing dataFuelCost\n",
    "\n",
    "# 1. Filter only rows where 'source' == 'dataFuelCost'\n",
    "df_dataFuelCost = df.loc[df['source'] == 'dataFuelCost'].copy()\n",
    "\n",
    "# 2. Drop empty columns  (all NaN)\n",
    "df_dataFuelCost.dropna(axis='columns', how='all', inplace=True)\n"
   ]
  },
  {
   "cell_type": "code",
   "execution_count": null,
   "metadata": {},
   "outputs": [],
   "source": [
    "import matplotlib.dates as mdates\n",
    "import seaborn as sns\n",
    "import matplotlib.pyplot as plt\n",
    "\n",
    "\n",
    "plt.figure(figsize=(10, 6))\n",
    "ax = sns.lineplot(\n",
    "    data=df_dataFuelCost, \n",
    "    x='timestamp', \n",
    "    y='value', \n",
    "    hue='place',\n",
    "    markers=True,\n",
    "    dashes=False\n",
    ")\n",
    "\n",
    "# Format the x-axis to show date and time\n",
    "ax.xaxis.set_major_formatter(mdates.DateFormatter('%Y-%m-%d %H:%M'))\n",
    "\n",
    "# adjust the number of ticks automatically\n",
    "ax.xaxis.set_major_locator(mdates.AutoDateLocator())\n",
    "\n",
    "plt.title(\"dataFuelCost v. date\")\n",
    "plt.xlabel(\"Timestamp\")\n",
    "plt.ylabel(\"Value\")\n",
    "\n",
    "plt.gcf().autofmt_xdate()  # rotates and aligns the tick labels so they don't overlap\n",
    "\n",
    "\n",
    "# Move the legend to the right (outside the plot area)\n",
    "plt.legend(\n",
    "    title=\"Place\", \n",
    "    bbox_to_anchor=(1.05, 1),  # x=1.05 is slightly outside the axes on the right\n",
    "    loc=\"upper left\",          # position the legend’s upper-left corner at that anchor\n",
    "    borderaxespad=0\n",
    ")\n",
    "\n",
    "plt.tight_layout()  \n",
    "plt.show()"
   ]
  },
  {
   "cell_type": "code",
   "execution_count": 22,
   "metadata": {},
   "outputs": [],
   "source": [
    "# analyzing dataFuelCost\n",
    "\n",
    "# 1. Filter only rows where 'source' == 'dataFuelCost'\n",
    "df_dataByFuel = df.loc[df['source'] == 'dataByFuel'].copy()\n",
    "\n",
    "# 2. Drop empty columns (all NaN)\n",
    "df_dataByFuel.dropna(axis='columns', how='all', inplace=True)"
   ]
  },
  {
   "cell_type": "code",
   "execution_count": 29,
   "metadata": {},
   "outputs": [],
   "source": [
    "# analyzing dataLoadPerSite\n",
    "\n",
    "# 1. Filter only rows where 'source' == 'dataLoadPerSite'\n",
    "df_dataLoadPerSite = df.loc[df['source'] == 'dataLoadPerSite'].copy()\n",
    "\n",
    "# 2.  Drop empty columns (all NaN)\n",
    "df_dataLoadPerSite.dropna(axis='columns', how='all', inplace=True)"
   ]
  }
 ],
 "metadata": {
  "kernelspec": {
   "display_name": "Python 3",
   "language": "python",
   "name": "python3"
  },
  "language_info": {
   "codemirror_mode": {
    "name": "ipython",
    "version": 3
   },
   "file_extension": ".py",
   "mimetype": "text/x-python",
   "name": "python",
   "nbconvert_exporter": "python",
   "pygments_lexer": "ipython3",
   "version": "3.10.10"
  }
 },
 "nbformat": 4,
 "nbformat_minor": 4
}
